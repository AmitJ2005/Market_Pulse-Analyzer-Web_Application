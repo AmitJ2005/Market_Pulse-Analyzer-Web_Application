{
 "cells": [
  {
   "cell_type": "code",
   "execution_count": 1,
   "id": "1753e3ff",
   "metadata": {},
   "outputs": [],
   "source": [
    "# !pip install pandas-datareader"
   ]
  },
  {
   "cell_type": "code",
   "execution_count": 2,
   "id": "9c23fa2f",
   "metadata": {},
   "outputs": [],
   "source": [
    "import pandas as pd\n",
    "from pandas_datareader import data as pdr"
   ]
  },
  {
   "cell_type": "code",
   "execution_count": null,
   "id": "4b66d131",
   "metadata": {},
   "outputs": [],
   "source": []
  },
  {
   "cell_type": "code",
   "execution_count": null,
   "id": "060dc665",
   "metadata": {},
   "outputs": [],
   "source": [
    "import json\n",
    "import requests\n",
    "import time\n",
    "\n",
    "def read_company_names_from_file(file_path):\n",
    "    with open(file_path, 'r') as file:\n",
    "        company_names = json.load(file)\n",
    "    return company_names\n",
    "\n",
    "def build_symbol_dictionary(api_key, company_names):\n",
    "    symbol_dict = {}\n",
    "\n",
    "    # Process companies in batches to stay within API call limit\n",
    "    batch_size = 10\n",
    "    for i in range(0, len(company_names), batch_size):\n",
    "        batch = company_names[i:i+batch_size]\n",
    "        for company in batch:\n",
    "            # Check if the symbol is already in the dictionary to avoid unnecessary API calls\n",
    "            if company not in symbol_dict:\n",
    "                symbol = get_stock_symbol(company, api_key)\n",
    "                symbol_dict[company] = symbol\n",
    "                \n",
    "                # Pause for a short duration to avoid reaching the API rate limit\n",
    "                time.sleep(1)\n",
    "\n",
    "    return symbol_dict\n",
    "\n",
    "def get_stock_symbol(company_name, api_key):\n",
    "    # Make an API call to get the stock symbol\n",
    "    search_query = f'https://www.alphavantage.co/query?function=SYMBOL_SEARCH&keywords={company_name}&apikey={api_key}'\n",
    "    \n",
    "    response = requests.get(search_query)\n",
    "    \n",
    "    if response.status_code == 200:\n",
    "        data = response.json()\n",
    "        \n",
    "        if 'bestMatches' in data and data['bestMatches']:\n",
    "            return data['bestMatches'][0]['1. symbol']\n",
    "        else:\n",
    "            return f\"No symbol found for {company_name}\"\n",
    "    else:\n",
    "        return f\"Error {response.status_code} fetching data for {company_name}\"\n",
    "\n",
    "# Example: Usage\n",
    "api_key = \"B6RXXKCDP3A0SOAG\"\n",
    "file_path = \"stock_names.json\"\n",
    "company_names = read_company_names_from_file(file_path)\n",
    "\n",
    "symbol_dict = build_symbol_dictionary(api_key, company_names)\n",
    "\n",
    "# Print symbols for each company\n",
    "for company, symbol in symbol_dict.items():\n",
    "    print(f\"{company}: {symbol}\")\n"
   ]
  },
  {
   "cell_type": "code",
   "execution_count": null,
   "id": "09c774f4",
   "metadata": {},
   "outputs": [],
   "source": []
  },
  {
   "cell_type": "code",
   "execution_count": null,
   "id": "53b0a794",
   "metadata": {},
   "outputs": [],
   "source": []
  },
  {
   "cell_type": "code",
   "execution_count": null,
   "id": "0f78c670",
   "metadata": {},
   "outputs": [],
   "source": []
  },
  {
   "cell_type": "code",
   "execution_count": null,
   "id": "8502cfd3",
   "metadata": {},
   "outputs": [],
   "source": []
  }
 ],
 "metadata": {
  "kernelspec": {
   "display_name": "Python 3 (ipykernel)",
   "language": "python",
   "name": "python3"
  },
  "language_info": {
   "codemirror_mode": {
    "name": "ipython",
    "version": 3
   },
   "file_extension": ".py",
   "mimetype": "text/x-python",
   "name": "python",
   "nbconvert_exporter": "python",
   "pygments_lexer": "ipython3",
   "version": "3.11.3"
  },
  "varInspector": {
   "cols": {
    "lenName": 16,
    "lenType": 16,
    "lenVar": 40
   },
   "kernels_config": {
    "python": {
     "delete_cmd_postfix": "",
     "delete_cmd_prefix": "del ",
     "library": "var_list.py",
     "varRefreshCmd": "print(var_dic_list())"
    },
    "r": {
     "delete_cmd_postfix": ") ",
     "delete_cmd_prefix": "rm(",
     "library": "var_list.r",
     "varRefreshCmd": "cat(var_dic_list()) "
    }
   },
   "types_to_exclude": [
    "module",
    "function",
    "builtin_function_or_method",
    "instance",
    "_Feature"
   ],
   "window_display": false
  }
 },
 "nbformat": 4,
 "nbformat_minor": 5
}
